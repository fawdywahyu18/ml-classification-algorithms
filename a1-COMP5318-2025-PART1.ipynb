{
 "cells": [
  {
   "cell_type": "markdown",
   "metadata": {},
   "source": [
    "# COMP5318 Assignment 1: Rice Classification"
   ]
  },
  {
   "cell_type": "markdown",
   "metadata": {},
   "source": [
    "##### Group number: A1 group-set1 177\n",
    "##### Student 1 SID: 540660818\n",
    "##### Student 2 SID: 550247340  "
   ]
  },
  {
   "cell_type": "code",
   "execution_count": 1,
   "metadata": {},
   "outputs": [],
   "source": [
    "# Import all libraries\n",
    "from sklearn.model_selection import StratifiedKFold"
   ]
  },
  {
   "cell_type": "code",
   "execution_count": 3,
   "metadata": {},
   "outputs": [],
   "source": [
    "# Ignore future warnings\n",
    "from warnings import simplefilter\n",
    "simplefilter(action='ignore', category=FutureWarning)"
   ]
  },
  {
   "cell_type": "code",
   "execution_count": 4,
   "metadata": {},
   "outputs": [
    {
     "name": "stdout",
     "output_type": "stream",
     "text": [
      "Dataset Information:\n",
      "<class 'pandas.core.frame.DataFrame'>\n",
      "RangeIndex: 1400 entries, 0 to 1399\n",
      "Data columns (total 8 columns):\n",
      " #   Column             Non-Null Count  Dtype \n",
      "---  ------             --------------  ----- \n",
      " 0   Area               1400 non-null   object\n",
      " 1   Perimiter          1400 non-null   object\n",
      " 2   Major_Axis_Length  1400 non-null   object\n",
      " 3   Minor_Axis_Length  1400 non-null   object\n",
      " 4   Eccentricity       1400 non-null   object\n",
      " 5   Convex_Area        1400 non-null   object\n",
      " 6   Extent             1400 non-null   object\n",
      " 7   class              1400 non-null   object\n",
      "dtypes: object(8)\n",
      "memory usage: 87.6+ KB\n",
      "None\n",
      "\n",
      "Descriptive Statistics:\n",
      "         Area Perimiter Major_Axis_Length Minor_Axis_Length Eccentricity  \\\n",
      "count    1400      1400              1400              1400         1400   \n",
      "unique   1259      1389              1396              1397         1393   \n",
      "top     12837         ?                 ?                 ?            ?   \n",
      "freq        4         4                 5                 3            6   \n",
      "\n",
      "       Convex_Area Extent   class  \n",
      "count         1400   1400    1400  \n",
      "unique        1256   1399       2  \n",
      "top              ?      ?  class2  \n",
      "freq             5      2     800  \n",
      "\n",
      "First few rows of the dataset:\n",
      "    Area    Perimiter Major_Axis_Length Minor_Axis_Length Eccentricity  \\\n",
      "0  12573  461.4660034       192.9033508       84.57207489  0.898771763   \n",
      "1  12845  464.1210022       194.3322144       85.52433777  0.897951961   \n",
      "2  14055  488.7489929       207.7517548       87.25032806  0.907536149   \n",
      "3  14412  490.3240051       207.4761353       89.68951416  0.901735425   \n",
      "4  14658  477.1170044       189.5666351       99.99777985  0.849550545   \n",
      "\n",
      "  Convex_Area       Extent   class  \n",
      "0       12893  0.550433397  class2  \n",
      "1       13125  0.774962306  class2  \n",
      "2       14484  0.550076306  class1  \n",
      "3       14703  0.598853171  class1  \n",
      "4       15048  0.649503708  class2  \n",
      "\n",
      "Missing values per column:\n",
      "Area                 0\n",
      "Perimiter            0\n",
      "Major_Axis_Length    0\n",
      "Minor_Axis_Length    0\n",
      "Eccentricity         0\n",
      "Convex_Area          0\n",
      "Extent               0\n",
      "class                0\n",
      "dtype: int64\n"
     ]
    }
   ],
   "source": [
    "# Load the rice dataset: rice-final2.csv\n",
    "import pandas as pd\n",
    "\n",
    "# Load dataset\n",
    "file_path = \"rice-final2.csv\"  # Adjust the path if needed\n",
    "df = pd.read_csv(file_path)\n",
    "\n",
    "# Display dataset information\n",
    "print(\"Dataset Information:\")\n",
    "print(df.info())\n",
    "\n",
    "# Display summary statistics\n",
    "print(\"\\nDescriptive Statistics:\")\n",
    "print(df.describe())\n",
    "\n",
    "# Display first few rows\n",
    "print(\"\\nFirst few rows of the dataset:\")\n",
    "print(df.head())\n",
    "\n",
    "# Check for missing values\n",
    "missing_values = df.isnull().sum()\n",
    "print(\"\\nMissing values per column:\")\n",
    "print(missing_values)"
   ]
  },
  {
   "cell_type": "code",
   "execution_count": 8,
   "metadata": {},
   "outputs": [
    {
     "name": "stdout",
     "output_type": "stream",
     "text": [
      "0.4628,0.5406,0.5113,0.4803,0.7380,0.4699,0.1196,1\n",
      "0.4900,0.5547,0.5266,0.5018,0.7319,0.4926,0.8030,1\n",
      "0.6109,0.6847,0.6707,0.5409,0.8032,0.6253,0.1185,0\n",
      "0.6466,0.6930,0.6677,0.5961,0.7601,0.6467,0.2669,0\n",
      "0.6712,0.6233,0.4755,0.8293,0.3721,0.6803,0.4211,1\n",
      "0.2634,0.2932,0.2414,0.4127,0.5521,0.2752,0.2825,1\n",
      "0.8175,0.9501,0.9515,0.5925,0.9245,0.8162,0.0000,0\n",
      "0.3174,0.3588,0.3601,0.3908,0.6921,0.3261,0.8510,1\n",
      "0.3130,0.3050,0.2150,0.5189,0.3974,0.3159,0.4570,1\n",
      "0.5120,0.5237,0.4409,0.6235,0.5460,0.5111,0.3155,1\n"
     ]
    }
   ],
   "source": [
    "# Pre-process dataset\n",
    "import numpy as np\n",
    "from sklearn.impute import SimpleImputer\n",
    "from sklearn.preprocessing import MinMaxScaler\n",
    "\n",
    "# Replace \"?\" with NaN\n",
    "df.replace(\"?\", np.nan, inplace=True)\n",
    "\n",
    "# Convert all feature columns to float\n",
    "for col in df.columns[:-1]:  \n",
    "    df[col] = pd.to_numeric(df[col], errors='coerce')  # Convert to float, coercing errors to NaN\n",
    "\n",
    "# Fill missing values with column mean\n",
    "imputer = SimpleImputer(strategy='mean')\n",
    "df.iloc[:, :-1] = imputer.fit_transform(df.iloc[:, :-1])  # Apply only to feature columns\n",
    "\n",
    "# Normalize the data using MinMaxScaler\n",
    "scaler = MinMaxScaler()\n",
    "df.iloc[:, :-1] = scaler.fit_transform(df.iloc[:, :-1])\n",
    "\n",
    "# Convert class labels: \"class1\" -> 0, \"class2\" -> 1\n",
    "df.iloc[:, -1] = df.iloc[:, -1].replace({\"class1\": 0, \"class2\": 1}).astype(int)\n",
    "\n",
    "# Convert DataFrame to NumPy arrays\n",
    "X = df.iloc[:, :-1].to_numpy()  # Features\n",
    "y = df.iloc[:, -1].to_numpy()   # Class labels\n",
    "\n",
    "# Define the modified print_data function\n",
    "def print_data(X, y, n_rows=10):\n",
    "    for example_num in range(n_rows):\n",
    "        # Print feature values formatted to 4 decimal places\n",
    "        print(\",\".join(\"{:.4f}\".format(feature) for feature in X[example_num]), end=\",\")\n",
    "        # Print class label without decimal places\n",
    "        print(y[example_num])\n",
    "\n",
    "# Call print_data function with X and y\n",
    "print_data(X, y, n_rows=10)"
   ]
  },
  {
   "cell_type": "markdown",
   "metadata": {},
   "source": [
    "### Part 1: Cross-validation without parameter tuning"
   ]
  },
  {
   "cell_type": "code",
   "execution_count": 20,
   "metadata": {},
   "outputs": [],
   "source": [
    "from sklearn.model_selection import StratifiedKFold, cross_val_score\n",
    "\n",
    "# Ensure y is an integer array\n",
    "y = np.array(y, dtype=int)  # Convert y to integer type\n",
    "\n",
    "# Define StratifiedKFold with 10 splits and random_state=0\n",
    "cvKFold = StratifiedKFold(n_splits=10, shuffle=True, random_state=0)"
   ]
  },
  {
   "cell_type": "code",
   "execution_count": 21,
   "metadata": {},
   "outputs": [],
   "source": [
    "from sklearn.linear_model import LogisticRegression\n",
    "# Function for Logistic Regression Classifier\n",
    "def logregClassifier(X, y):\n",
    "    model = LogisticRegression(random_state=0, max_iter=1000)  # Ensure convergence with more iterations\n",
    "    scores = cross_val_score(model, X, y, cv=cvKFold, scoring='accuracy')\n",
    "    return scores.mean()"
   ]
  },
  {
   "cell_type": "code",
   "execution_count": 22,
   "metadata": {},
   "outputs": [],
   "source": [
    "from sklearn.naive_bayes import GaussianNB\n",
    "\n",
    "# Function for Naïve Bayes Classifier\n",
    "def nbClassifier(X, y):\n",
    "    model = GaussianNB()\n",
    "    scores = cross_val_score(model, X, y, cv=cvKFold, scoring='accuracy')\n",
    "    return scores.mean()"
   ]
  },
  {
   "cell_type": "code",
   "execution_count": 23,
   "metadata": {},
   "outputs": [],
   "source": [
    "from sklearn.tree import DecisionTreeClassifier\n",
    "\n",
    "# Function for Decision Tree Classifier\n",
    "def dtClassifier(X, y):\n",
    "    model = DecisionTreeClassifier(criterion=\"entropy\", random_state=0)  # Using Information Gain (Entropy)\n",
    "    scores = cross_val_score(model, X, y, cv=cvKFold, scoring='accuracy')\n",
    "    return scores.mean()"
   ]
  },
  {
   "cell_type": "code",
   "execution_count": 24,
   "metadata": {},
   "outputs": [],
   "source": [
    "from sklearn.ensemble import BaggingClassifier, AdaBoostClassifier, GradientBoostingClassifier\n",
    "\n",
    "# Function for Bagging with Decision Trees\n",
    "def bagDTClassifier(X, y, n_estimators=50, max_samples=1.0, max_depth=None):\n",
    "    base_tree = DecisionTreeClassifier(criterion=\"entropy\", max_depth=max_depth, random_state=0)\n",
    "    model = BaggingClassifier(base_tree, n_estimators=n_estimators, max_samples=max_samples, random_state=0)\n",
    "    scores = cross_val_score(model, X, y, cv=cvKFold, scoring='accuracy')\n",
    "    return scores.mean()\n",
    "\n",
    "# Function for AdaBoost with Decision Trees\n",
    "def adaDTClassifier(X, y, n_estimators=50, learning_rate=1.0, max_depth=1):\n",
    "    base_tree = DecisionTreeClassifier(criterion=\"entropy\", max_depth=max_depth, random_state=0)\n",
    "    model = AdaBoostClassifier(base_tree, n_estimators=n_estimators, learning_rate=learning_rate, random_state=0)\n",
    "    scores = cross_val_score(model, X, y, cv=cvKFold, scoring='accuracy')\n",
    "    return scores.mean()\n",
    "\n",
    "# Function for Gradient Boosting\n",
    "def gbClassifier(X, y, n_estimators=50, learning_rate=0.1):\n",
    "    model = GradientBoostingClassifier(n_estimators=n_estimators, learning_rate=learning_rate, random_state=0)\n",
    "    scores = cross_val_score(model, X, y, cv=cvKFold, scoring='accuracy')\n",
    "    return scores.mean()"
   ]
  },
  {
   "cell_type": "markdown",
   "metadata": {},
   "source": [
    "### Part 1 Results"
   ]
  },
  {
   "cell_type": "code",
   "execution_count": 25,
   "metadata": {},
   "outputs": [
    {
     "name": "stdout",
     "output_type": "stream",
     "text": [
      "LogR average cross-validation accuracy: 0.9386\n",
      "NB average cross-validation accuracy: 0.9264\n",
      "DT average cross-validation accuracy: 0.9179\n",
      "Bagging average cross-validation accuracy: 0.9400\n",
      "AdaBoost average cross-validation accuracy: 0.9407\n",
      "GB average cross-validation accuracy: 0.9321\n"
     ]
    }
   ],
   "source": [
    "# Parameters for Part 1:\n",
    "\n",
    "# Bagging\n",
    "bag_n_estimators = 50\n",
    "bag_max_samples = 100\n",
    "bag_max_depth = 5\n",
    "\n",
    "# AdaBoost\n",
    "ada_n_estimators = 50\n",
    "ada_learning_rate = 0.5\n",
    "ada_max_depth = 5\n",
    "\n",
    "# Gradient Boosting\n",
    "gb_n_estimators = 50\n",
    "gb_learning_rate = 0.5\n",
    "\n",
    "# Run classifiers and store results\n",
    "logreg_score = logregClassifier(X, y)\n",
    "nb_score = nbClassifier(X, y)\n",
    "dt_score = dtClassifier(X, y)\n",
    "bag_score = bagDTClassifier(X, y, n_estimators=bag_n_estimators, max_samples=0.8, max_depth=bag_max_depth)\n",
    "ada_score = adaDTClassifier(X, y, n_estimators=ada_n_estimators, learning_rate=ada_learning_rate, max_depth=ada_max_depth)\n",
    "gb_score = gbClassifier(X, y, n_estimators=gb_n_estimators, learning_rate=gb_learning_rate)\n",
    "\n",
    "# Print results for each classifier in Part 1 to 4 decimal places\n",
    "print(f\"LR average cross-validation accuracy: {logreg_score:.4f}\")\n",
    "print(f\"NB average cross-validation accuracy: {nb_score:.4f}\")\n",
    "print(f\"DT average cross-validation accuracy: {dt_score:.4f}\")\n",
    "print(f\"Bagging average cross-validation accuracy: {bag_score:.4f}\")\n",
    "print(f\"AdaBoost average cross-validation accuracy: {ada_score:.4f}\")\n",
    "print(f\"GB average cross-validation accuracy: {gb_score:.4f}\")"
   ]
  },
  {
   "cell_type": "markdown",
   "metadata": {},
   "source": [
    "### Part 2: Cross-validation with parameter tuning"
   ]
  },
  {
   "cell_type": "code",
   "execution_count": 57,
   "metadata": {},
   "outputs": [],
   "source": [
    "# KNN\n",
    "k = [1, 3, 5, 7]\n",
    "p = [1, 2]\n",
    "\n",
    "\n",
    "def bestKNNClassifier(X, y):\n",
    "    \n",
    "    return #(appropriate values so that the required printing can be done)"
   ]
  },
  {
   "cell_type": "code",
   "execution_count": 58,
   "metadata": {},
   "outputs": [],
   "source": [
    "# SVM\n",
    "# You should use SVC from sklearn.svm with kernel set to 'rbf'\n",
    "C = [0.01, 0.1, 1, 5] \n",
    "gamma = [0.01, 0.1, 1, 10]\n",
    "\n",
    "def bestSVMClassifier(X, y):\n",
    "\n",
    "    return  #(appropriate values so that the required printing can be done)"
   ]
  },
  {
   "cell_type": "code",
   "execution_count": 59,
   "metadata": {},
   "outputs": [],
   "source": [
    "# Random Forest\n",
    "# You should use RandomForestClassifier from sklearn.ensemble with information gain and max_features set to ‘sqrt’.\n",
    "n_estimators = [10, 30, 60, 100]\n",
    "max_leaf_nodes = [6, 12]\n",
    "\n",
    "def bestRFClassifier(X, y):\n",
    "\n",
    "    return #(appropriate values so that the required printing can be done)"
   ]
  },
  {
   "cell_type": "markdown",
   "metadata": {},
   "source": [
    "### Part 2: Results"
   ]
  },
  {
   "cell_type": "code",
   "execution_count": 60,
   "metadata": {},
   "outputs": [
    {
     "name": "stdout",
     "output_type": "stream",
     "text": [
      "KNN best k: \n",
      "KNN best p: \n",
      "KNN cross-validation accuracy: \n",
      "KNN test set accuracy: \n",
      "\n",
      "SVM best C: \n",
      "SVM best gamma: \n",
      "SVM cross-validation accuracy: \n",
      "SVM test set accuracy: \n",
      "\n",
      "RF best n_estimators: \n",
      "RF best max_leaf_nodes: \n",
      "RF cross-validation accuracy: \n",
      "RF test set accuracy: \n",
      "RF test set macro average F1: \n",
      "RF test set weighted average F1: \n"
     ]
    }
   ],
   "source": [
    "# Perform Grid Search with 10-fold stratified cross-validation (GridSearchCV in sklearn). \n",
    "# The stratified folds from cvKFold should be provided to GridSearchV\n",
    "\n",
    "# This should include using train_test_split from sklearn.model_selection with stratification and random_state=0\n",
    "# Print results for each classifier here. All results should be printed to 4 decimal places except for\n",
    "# \"k\", \"p\", n_estimators\" and \"max_leaf_nodes\" which should be printed as integers.\n",
    "print(\"KNN best k: \")\n",
    "print(\"KNN best p: \")\n",
    "print(\"KNN cross-validation accuracy: \")\n",
    "print(\"KNN test set accuracy: \")\n",
    "\n",
    "print()\n",
    "\n",
    "print(\"SVM best C: \")\n",
    "print(\"SVM best gamma: \")\n",
    "print(\"SVM cross-validation accuracy: \")\n",
    "print(\"SVM test set accuracy: \")\n",
    "\n",
    "print()\n",
    "\n",
    "print(\"RF best n_estimators: \")\n",
    "print(\"RF best max_leaf_nodes: \")\n",
    "print(\"RF cross-validation accuracy: \")\n",
    "print(\"RF test set accuracy: \")\n",
    "print(\"RF test set macro average F1: \")\n",
    "print(\"RF test set weighted average F1: \")"
   ]
  },
  {
   "cell_type": "markdown",
   "metadata": {},
   "source": [
    "### Part 3: Reflection"
   ]
  },
  {
   "cell_type": "markdown",
   "metadata": {},
   "source": [
    "##### Write one paragraph describing the most important thing that you have learned throughout this assignment.\n",
    "##### Student 1: ...\n",
    "##### Student 2: ..."
   ]
  }
 ],
 "metadata": {
  "kernelspec": {
   "display_name": "Python 3 (ipykernel)",
   "language": "python",
   "name": "python3"
  },
  "language_info": {
   "codemirror_mode": {
    "name": "ipython",
    "version": 3
   },
   "file_extension": ".py",
   "mimetype": "text/x-python",
   "name": "python",
   "nbconvert_exporter": "python",
   "pygments_lexer": "ipython3",
   "version": "3.13.2"
  }
 },
 "nbformat": 4,
 "nbformat_minor": 4
}
